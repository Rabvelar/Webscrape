{
 "cells": [
  {
   "cell_type": "code",
   "execution_count": 1,
   "metadata": {},
   "outputs": [],
   "source": [
    "from datetime import datetime\n",
    "import time\n",
    "import pandas as pd\n",
    "import pickle as pk\n",
    "from bs4 import BeautifulSoup\n",
    "import requests"
   ]
  },
  {
   "cell_type": "code",
   "execution_count": 5,
   "metadata": {},
   "outputs": [
    {
     "name": "stdout",
     "output_type": "stream",
     "text": [
      "Total condo links: 111314\n"
     ]
    }
   ],
   "source": [
    "with open('condo_links_all.txt') as f:\n",
    "    condo_links_all = f.read().splitlines()\n",
    "print(f\"Total condo links: {len(condo_links_all)}\")"
   ]
  },
  {
   "cell_type": "markdown",
   "metadata": {},
   "source": [
    "####500 link 45sec####"
   ]
  },
  {
   "cell_type": "code",
   "execution_count": 3,
   "metadata": {},
   "outputs": [
    {
     "name": "stdout",
     "output_type": "stream",
     "text": [
      "Processed 500/111314 links\r"
     ]
    }
   ],
   "source": [
    "import requests\n",
    "from bs4 import BeautifulSoup\n",
    "import pandas as pd\n",
    "from datetime import datetime\n",
    "import concurrent.futures\n",
    "\n",
    "# Scraper class to manage the session and retrieval\n",
    "class Scraper:\n",
    "    def __init__(self):\n",
    "        self.session = requests.Session()  # Reuse connections for efficiency\n",
    "\n",
    "    def retrieve(self, link):\n",
    "        try:\n",
    "            page = self.session.get(link)\n",
    "            soup = BeautifulSoup(page.content, 'html.parser')\n",
    "\n",
    "            # Extracting the sqm container\n",
    "            sqm_container = soup.find('div', class_=\"sc-ejnaz6-21 dWMjEs\")\n",
    "            if sqm_container:\n",
    "                spans = sqm_container.find_all('span')\n",
    "                last_span = spans[-1].get_text().strip() if spans else \"No sqm data\"\n",
    "            else:\n",
    "                last_span = \"No sqm data\"\n",
    "\n",
    "            # Extract other information\n",
    "            name_elem = soup.find(class_=\"sc-ejnaz6-2 fuLHNZ\")\n",
    "            name = name_elem.find(class_=\"sc-ejnaz6-3 gSIBgi\").get_text() if name_elem else \"No name\"\n",
    "\n",
    "            price_elem = soup.find(class_=\"sc-ejnaz6-5 hgrkiv\")\n",
    "            price = price_elem.find(class_=\"sale-price\").get_text().strip('฿').replace(',', \"\") if price_elem else \"No price\"\n",
    "\n",
    "            return (name, last_span, price)\n",
    "        except Exception as e:\n",
    "            print(f\"Error processing {link}: {e}\")\n",
    "            return None\n",
    "\n",
    "# Function to process links using threading\n",
    "def process_links(links, max_workers=20):\n",
    "    scraper = Scraper()\n",
    "    condo_list = []\n",
    "    total_links = len(links)\n",
    "    \n",
    "    with concurrent.futures.ThreadPoolExecutor(max_workers=max_workers) as executor:\n",
    "        future_to_link = {executor.submit(scraper.retrieve, link): link for link in links}\n",
    "        for i, future in enumerate(concurrent.futures.as_completed(future_to_link), 1):\n",
    "            data = future.result()\n",
    "            if data is not None:\n",
    "                condo_list.append(data)\n",
    "            if i % 500 == 0:  # Print progress every 1000 links\n",
    "                print(f\"Processed {i}/{total_links} links\", end='\\r', flush=True)\n",
    "\n",
    "    print(f\"Processing complete. Total links processed: {total_links}\")\n",
    "    return condo_list\n",
    "\n",
    "# Function to read links from a text file\n",
    "def read_links_from_file(file_path):\n",
    "    with open(file_path, 'r') as file:\n",
    "        links = [line.strip() for line in file.readlines()]\n",
    "    return links\n",
    "\n",
    "# Main function to execute the scraping and save the results\n",
    "def main():\n",
    "    file_path = 'condo_links_all.txt'\n",
    "    condo_links_all = read_links_from_file(file_path)\n",
    "\n",
    "    start_time = datetime.now()\n",
    "\n",
    "    # Process the links and get the condo details\n",
    "    condo_list = process_links(condo_links_all)\n",
    "\n",
    "    # Create a DataFrame and save to CSV\n",
    "    df = pd.DataFrame(condo_list, columns=['Name', 'SQM', 'Price'])\n",
    "    df.to_csv(\"NewPrice.csv\", header=['Name', 'SQM', 'Price'], index=False, encoding='utf-8-sig')\n",
    "\n",
    "    print(f\"Data saved, total valid entries: {len(condo_list)}\")\n",
    "    print(f'Time elapsed (hh:mm:ss.ms): {datetime.now() - start_time}')\n",
    "\n",
    "if __name__ == \"__main__\":\n",
    "    main()\n"
   ]
  },
  {
   "cell_type": "code",
   "execution_count": 2,
   "metadata": {},
   "outputs": [
    {
     "name": "stdout",
     "output_type": "stream",
     "text": [
      "Request error for https://propertyhub.in.th/en/listings/by-owner-niche-mono-sukhumvit-bearing-1-bedroom-floor20---4199070: HTTPSConnectionPool(host='propertyhub.in.th', port=443): Read timed out. (read timeout=10)\n",
      "Request error for https://propertyhub.in.th/en/listings/2-br-penthouse-at-aritier-penthouse-at-ari-near-bts-ari-id-1793125---4654098: HTTPSConnectionPool(host='propertyhub.in.th', port=443): Read timed out. (read timeout=10)\n",
      "Processed 500/111314 links\r"
     ]
    }
   ],
   "source": [
    "import requests\n",
    "from bs4 import BeautifulSoup\n",
    "import pandas as pd\n",
    "from datetime import datetime\n",
    "import concurrent.futures\n",
    "import time\n",
    "\n",
    "class Scraper:\n",
    "    def __init__(self):\n",
    "        self.session = requests.Session()\n",
    "        self.session.headers.update({'User-Agent': 'Mozilla/5.0 (Windows NT 10.0; Win64; x64) AppleWebKit/537.36 (KHTML, like Gecko) Chrome/91.0.4472.124 Safari/537.36'})\n",
    "\n",
    "    def retrieve(self, link):\n",
    "        retries = 3\n",
    "        for attempt in range(retries):\n",
    "            try:\n",
    "                page = self.session.get(link, timeout=10)\n",
    "                page.raise_for_status()  # Raise an error for bad responses\n",
    "                soup = BeautifulSoup(page.content, 'html.parser')\n",
    "\n",
    "                # Use get() method to simplify extraction with defaults\n",
    "                sqm_container = soup.find('div', class_=\"sc-ejnaz6-21 dWMjEs\")\n",
    "                last_span = sqm_container.find_all('span')[-1].get_text().strip() if sqm_container else \"No sqm data\"\n",
    "\n",
    "                name_elem = soup.select_one(\".sc-ejnaz6-2 .sc-ejnaz6-3\")\n",
    "                name = name_elem.get_text() if name_elem else \"No name\"\n",
    "\n",
    "                price_elem = soup.select_one(\".sc-ejnaz6-5 .sale-price\")\n",
    "                price = price_elem.get_text().strip('฿').replace(',', \"\") if price_elem else \"No price\"\n",
    "\n",
    "                return (name, last_span, price)\n",
    "            except requests.RequestException as e:\n",
    "                print(f\"Request error for {link}: {e}\")\n",
    "                break  # Exit on request error\n",
    "            except Exception as e:\n",
    "                print(f\"Error processing {link}, Attempt {attempt+1}: {e}\")\n",
    "                if attempt < retries - 1:\n",
    "                    time.sleep(1)  # Wait before retrying\n",
    "                else:\n",
    "                    return None\n",
    "\n",
    "def process_links(links, max_workers=20):\n",
    "    scraper = Scraper()\n",
    "    condo_list = []\n",
    "    total_links = len(links)\n",
    "\n",
    "    with concurrent.futures.ThreadPoolExecutor(max_workers=max_workers) as executor:\n",
    "        future_to_link = {executor.submit(scraper.retrieve, link): link for link in links}\n",
    "        for i, future in enumerate(concurrent.futures.as_completed(future_to_link), 1):\n",
    "            data = future.result()\n",
    "            if data is not None:\n",
    "                condo_list.append(data)\n",
    "            if i % 100 == 0:\n",
    "                print(f\"Processed {i}/{total_links} links\", end='\\r', flush=True)\n",
    "\n",
    "    print(f\"\\nProcessing complete. Total links processed: {total_links}\")\n",
    "    return condo_list\n",
    "\n",
    "def read_links_from_file(file_path):\n",
    "    with open(file_path, 'r') as file:\n",
    "        return [line.strip() for line in file if line.strip()]  # Filter out empty lines\n",
    "\n",
    "def main():\n",
    "    file_path = 'condo_links_all.txt'\n",
    "    condo_links_all = read_links_from_file(file_path)\n",
    "\n",
    "    start_time = datetime.now()\n",
    "    condo_list = process_links(condo_links_all)\n",
    "\n",
    "    df = pd.DataFrame(condo_list, columns=['Name', 'SQM', 'Price'])\n",
    "    df.to_csv(\"NewPrice.csv\", header=['Name', 'SQM', 'Price'], index=False, encoding='utf-8-sig')\n",
    "\n",
    "    print(f\"Data saved, total valid entries: {len(condo_list)}\")\n",
    "    print(f'Time elapsed (hh:mm:ss.ms): {datetime.now() - start_time}')\n",
    "\n",
    "if __name__ == \"__main__\":\n",
    "    main()\n"
   ]
  },
  {
   "cell_type": "code",
   "execution_count": 3,
   "metadata": {},
   "outputs": [
    {
     "name": "stdout",
     "output_type": "stream",
     "text": [
      "Collecting tqdm\n",
      "  Downloading tqdm-4.66.5-py3-none-any.whl.metadata (57 kB)\n",
      "Requirement already satisfied: colorama in c:\\users\\n\\appdata\\local\\anaconda3\\envs\\project\\lib\\site-packages (from tqdm) (0.4.6)\n",
      "Downloading tqdm-4.66.5-py3-none-any.whl (78 kB)\n",
      "Installing collected packages: tqdm\n",
      "Successfully installed tqdm-4.66.5\n",
      "Note: you may need to restart the kernel to use updated packages.\n"
     ]
    }
   ],
   "source": [
    "pip install tqdm\n"
   ]
  },
  {
   "cell_type": "code",
   "execution_count": 2,
   "metadata": {},
   "outputs": [
    {
     "name": "stdout",
     "output_type": "stream",
     "text": [
      "Collecting aiohttp\n",
      "  Downloading aiohttp-3.10.5-cp312-cp312-win_amd64.whl.metadata (7.8 kB)\n",
      "Collecting aiohappyeyeballs>=2.3.0 (from aiohttp)\n",
      "  Downloading aiohappyeyeballs-2.4.0-py3-none-any.whl.metadata (5.9 kB)\n",
      "Collecting aiosignal>=1.1.2 (from aiohttp)\n",
      "  Downloading aiosignal-1.3.1-py3-none-any.whl.metadata (4.0 kB)\n",
      "Requirement already satisfied: attrs>=17.3.0 in c:\\users\\n\\appdata\\local\\anaconda3\\envs\\project\\lib\\site-packages (from aiohttp) (24.2.0)\n",
      "Collecting frozenlist>=1.1.1 (from aiohttp)\n",
      "  Downloading frozenlist-1.4.1-cp312-cp312-win_amd64.whl.metadata (12 kB)\n",
      "Collecting multidict<7.0,>=4.5 (from aiohttp)\n",
      "  Downloading multidict-6.1.0-cp312-cp312-win_amd64.whl.metadata (5.1 kB)\n",
      "Collecting yarl<2.0,>=1.0 (from aiohttp)\n",
      "  Downloading yarl-1.11.1-cp312-cp312-win_amd64.whl.metadata (49 kB)\n",
      "Requirement already satisfied: idna>=2.0 in c:\\users\\n\\appdata\\local\\anaconda3\\envs\\project\\lib\\site-packages (from yarl<2.0,>=1.0->aiohttp) (3.9)\n",
      "Downloading aiohttp-3.10.5-cp312-cp312-win_amd64.whl (377 kB)\n",
      "Downloading aiohappyeyeballs-2.4.0-py3-none-any.whl (12 kB)\n",
      "Downloading aiosignal-1.3.1-py3-none-any.whl (7.6 kB)\n",
      "Downloading frozenlist-1.4.1-cp312-cp312-win_amd64.whl (50 kB)\n",
      "Downloading multidict-6.1.0-cp312-cp312-win_amd64.whl (28 kB)\n",
      "Downloading yarl-1.11.1-cp312-cp312-win_amd64.whl (110 kB)\n",
      "Installing collected packages: multidict, frozenlist, aiohappyeyeballs, yarl, aiosignal, aiohttp\n",
      "Successfully installed aiohappyeyeballs-2.4.0 aiohttp-3.10.5 aiosignal-1.3.1 frozenlist-1.4.1 multidict-6.1.0 yarl-1.11.1\n",
      "Note: you may need to restart the kernel to use updated packages.\n"
     ]
    }
   ],
   "source": [
    "pip install aiohttp"
   ]
  },
  {
   "cell_type": "code",
   "execution_count": 2,
   "metadata": {},
   "outputs": [
    {
     "name": "stdout",
     "output_type": "stream",
     "text": [
      "Error fetching https://propertyhub.in.th/en/listings/condo-for-sale-whizdom-the-forestias-petopia-pet-live-here-suitable-for-pet-owners-with-30-rai-forest-garden-view-5-51-mb---4622199, attempt 1: \n",
      "Error fetching https://propertyhub.in.th/en/listings/sale-624-condolette-line-id-0619636888---4461480, attempt 1: \n",
      "Data saved, total valid entries: 500\n",
      "Time elapsed (hh:mm:ss.ms): 0:00:31.811962\n"
     ]
    }
   ],
   "source": [
    "import aiohttp\n",
    "import asyncio\n",
    "from bs4 import BeautifulSoup\n",
    "import pandas as pd\n",
    "from datetime import datetime\n",
    "import time\n",
    "import nest_asyncio  # For environments like Jupyter notebooks\n",
    "\n",
    "# Apply nest_asyncio to allow nested event loops (only if needed in environments like Jupyter)\n",
    "nest_asyncio.apply()\n",
    "\n",
    "# Asynchronous Scraper class\n",
    "class AsyncScraper:\n",
    "    def __init__(self):\n",
    "        self.session = None\n",
    "    \n",
    "    async def fetch(self, session, url):\n",
    "        retries = 3\n",
    "        for attempt in range(retries):\n",
    "            try:\n",
    "                async with session.get(url, timeout=10) as response:\n",
    "                    response.raise_for_status()\n",
    "                    html = await response.text()\n",
    "                    soup = BeautifulSoup(html, 'lxml')\n",
    "\n",
    "                    # Extracting required data\n",
    "                    sqm_container = soup.find('div', class_=\"sc-ejnaz6-21 dWMjEs\")\n",
    "                    last_span = sqm_container.find_all('span')[-1].get_text().strip() if sqm_container else \"No sqm data\"\n",
    "\n",
    "                    name_elem = soup.select_one(\".sc-ejnaz6-2 .sc-ejnaz6-3\")\n",
    "                    name = name_elem.get_text() if name_elem else \"No name\"\n",
    "\n",
    "                    price_elem = soup.select_one(\".sc-ejnaz6-5 .sale-price\")\n",
    "                    price = price_elem.get_text().strip('฿').replace(',', \"\") if price_elem else \"No price\"\n",
    "\n",
    "                    return (name, last_span, price)\n",
    "            except (aiohttp.ClientError, asyncio.TimeoutError) as e:\n",
    "                print(f\"Error fetching {url}, attempt {attempt + 1}: {e}\")\n",
    "                if attempt < retries - 1:\n",
    "                    await asyncio.sleep(2 ** attempt)  # Exponential backoff\n",
    "                else:\n",
    "                    return None\n",
    "\n",
    "    async def scrape_links(self, urls, max_concurrency=20):\n",
    "        async with aiohttp.ClientSession(headers={'User-Agent': 'Mozilla/5.0'}) as session:\n",
    "            tasks = []\n",
    "            semaphore = asyncio.Semaphore(max_concurrency)  # Limit concurrency\n",
    "\n",
    "            async def bound_fetch(url):\n",
    "                async with semaphore:\n",
    "                    return await self.fetch(session, url)\n",
    "\n",
    "            tasks = [bound_fetch(url) for url in urls]\n",
    "            results = await asyncio.gather(*tasks)\n",
    "            \n",
    "            return [result for result in results if result is not None]\n",
    "\n",
    "# Helper function to read links from file\n",
    "def read_links_from_file(file_path):\n",
    "    with open(file_path, 'r') as file:\n",
    "        return [line.strip() for line in file if line.strip()]\n",
    "\n",
    "# Main function to execute the scraping\n",
    "async def run_scraper():\n",
    "    file_path = 'condo_links_all1.txt'\n",
    "    condo_links_all = read_links_from_file(file_path)\n",
    "    scraper = AsyncScraper()\n",
    "\n",
    "    start_time = datetime.now()\n",
    "\n",
    "    # Scrape the links\n",
    "    condo_list = await scraper.scrape_links(condo_links_all)\n",
    "\n",
    "    # Save to DataFrame and CSV\n",
    "    df = pd.DataFrame(condo_list, columns=['Name', 'SQM', 'Price'])\n",
    "    df.to_csv(\"NewPrice3.csv\", header=['Name', 'SQM', 'Price'], index=False, encoding='utf-8-sig')\n",
    "\n",
    "    print(f\"Data saved, total valid entries: {len(condo_list)}\")\n",
    "    print(f'Time elapsed (hh:mm:ss.ms): {datetime.now() - start_time}')\n",
    "\n",
    "# Function to check if the event loop is already running and run the scraper\n",
    "def main():\n",
    "    try:\n",
    "        # If already inside an event loop (e.g., Jupyter Notebook), use this\n",
    "        if asyncio.get_event_loop().is_running():\n",
    "            return asyncio.ensure_future(run_scraper())\n",
    "        # Otherwise, use asyncio.run() to run the main async function\n",
    "        else:\n",
    "            return asyncio.run(run_scraper())\n",
    "    except RuntimeError:\n",
    "        # For environments like Jupyter Notebook, where get_event_loop() may raise an error\n",
    "        loop = asyncio.new_event_loop()\n",
    "        asyncio.set_event_loop(loop)\n",
    "        loop.run_until_complete(run_scraper())\n",
    "\n",
    "# Run the scraper\n",
    "if __name__ == \"__main__\":\n",
    "    main()\n"
   ]
  },
  {
   "cell_type": "code",
   "execution_count": 6,
   "metadata": {},
   "outputs": [
    {
     "name": "stderr",
     "output_type": "stream",
     "text": [
      "Processing:   0%|          | 243/111314 [00:25<2:31:34, 12.21it/s]"
     ]
    },
    {
     "name": "stdout",
     "output_type": "stream",
     "text": [
      "Error fetching https://propertyhub.in.th/en/listings/lumpini-ville-sukhumvit-76-bearing-station--9ddb08f8---4170046, attempt 1: \n"
     ]
    },
    {
     "name": "stderr",
     "output_type": "stream",
     "text": [
      "Processing:   0%|          | 269/111314 [00:27<1:27:15, 21.21it/s]"
     ]
    },
    {
     "name": "stdout",
     "output_type": "stream",
     "text": [
      "Error fetching https://propertyhub.in.th/en/listings/1-br-condo-at-noble-revo-silom-near-bts-surasak-id-1552914---4529381, attempt 1: \n"
     ]
    },
    {
     "name": "stderr",
     "output_type": "stream",
     "text": [
      "Processing:   1%|          | 754/111314 [01:03<3:32:10,  8.68it/s]"
     ]
    },
    {
     "name": "stdout",
     "output_type": "stream",
     "text": [
      "Error fetching https://propertyhub.in.th/en/listings/rhythm-sukhumvit-42-opens-a-new-experience-for-city-people-condo-ready-to-move-in-near-bts-ekkamai--9d8d08bd---4492558, attempt 1: \n",
      "Error fetching https://propertyhub.in.th/en/listings/for-sell-condo-circle-condominium-building-1-floor-27-1-bed-room-room-size-44-sqm--b2a30a2c---4687977, attempt 1: \n",
      "Error fetching https://propertyhub.in.th/en/listings/siri-at-sukhumvit-premium-condominium-by-sansiri-near-bts-thonglor--ae3d0972---4492625, attempt 1: \n",
      "Error fetching https://propertyhub.in.th/en/listings/art-thonglor-25--9ab708b4---4499330, attempt 1: \n"
     ]
    },
    {
     "name": "stderr",
     "output_type": "stream",
     "text": [
      "Processing:   1%|          | 770/111314 [01:05<3:05:58,  9.91it/s]"
     ]
    },
    {
     "name": "stdout",
     "output_type": "stream",
     "text": [
      "Error fetching https://propertyhub.in.th/en/listings/villa-asoke-new-york-art-decor-style-condo-with-the-atmosphere-of-a-single-house--a605099e---4494760, attempt 1: \n"
     ]
    },
    {
     "name": "stderr",
     "output_type": "stream",
     "text": [
      "Processing:   2%|▏         | 2468/111314 [03:09<2:16:39, 13.27it/s]"
     ]
    },
    {
     "name": "stdout",
     "output_type": "stream",
     "text": [
      "Error fetching https://propertyhub.in.th/en/listings/3-bed-condo-in-kallista-mansion-khlong-toei-nuea-sub-district-c018543---4008263, attempt 1: \n"
     ]
    },
    {
     "name": "stderr",
     "output_type": "stream",
     "text": [
      "Processing:   2%|▏         | 2574/111314 [03:16<2:25:18, 12.47it/s]"
     ]
    },
    {
     "name": "stdout",
     "output_type": "stream",
     "text": [
      "Error fetching https://propertyhub.in.th/en/listings/1-br-condo-at-the-xxxix-by-sansiri-near-bts-phrom-phong-id-1074016---4133289, attempt 1: \n"
     ]
    },
    {
     "name": "stderr",
     "output_type": "stream",
     "text": [
      "Processing:   2%|▏         | 2756/111314 [03:29<1:35:30, 18.95it/s]"
     ]
    },
    {
     "name": "stdout",
     "output_type": "stream",
     "text": [
      "Error fetching https://propertyhub.in.th/en/listings/hot-price-5-65mb-studio-with-partition-wooden-green-style-good-location-close-to-bts-phrom-phong-at-park-24-condo-for-sale---3277790, attempt 1: \n"
     ]
    },
    {
     "name": "stderr",
     "output_type": "stream",
     "text": [
      "Processing:   3%|▎         | 2870/111314 [03:38<2:37:12, 11.50it/s]"
     ]
    },
    {
     "name": "stdout",
     "output_type": "stream",
     "text": [
      "Error fetching https://propertyhub.in.th/en/listings/920391001-145-baan-chan-condominium-baan-chan-condominium---4141308, attempt 1: 500, message='Internal Server Error', url='https://propertyhub.in.th/en/listings/920391001-145-baan-chan-condominium-baan-chan-condominium---4141308'\n"
     ]
    },
    {
     "name": "stderr",
     "output_type": "stream",
     "text": [
      "Processing:   3%|▎         | 2893/111314 [03:41<5:41:34,  5.29it/s]"
     ]
    },
    {
     "name": "stdout",
     "output_type": "stream",
     "text": [
      "Error fetching https://propertyhub.in.th/en/listings/920021009-33-%E0%B8%82%E0%B8%B2%E0%B8%A2%E0%B8%84%E0%B8%AD%E0%B8%99%E0%B9%82%E0%B8%94%E0%B9%80%E0%B8%8B%E0%B9%87%E0%B8%99%E0%B8%97%E0%B8%A3%E0%B8%B4%E0%B8%84%E0%B8%8B%E0%B8%B5%E0%B8%99-%E0%B8%A3%E0%B8%B1%E0%B8%8A%E0%B8%A7%E0%B8%B4%E0%B8%A0%E0%B8%B2--a81f097a---4141298, attempt 1: 500, message='Internal Server Error', url='https://propertyhub.in.th/en/listings/920021009-33-%E0%B8%82%E0%B8%B2%E0%B8%A2%E0%B8%84%E0%B8%AD%E0%B8%99%E0%B9%82%E0%B8%94%E0%B9%80%E0%B8%8B%E0%B9%87%E0%B8%99%E0%B8%97%E0%B8%A3%E0%B8%B4%E0%B8%84%E0%B8%8B%E0%B8%B5%E0%B8%99-%E0%B8%A3%E0%B8%B1%E0%B8%8A%E0%B8%A7%E0%B8%B4%E0%B8%A0%E0%B8%B2--a81f097a---4141298'\n",
      "Error fetching https://propertyhub.in.th/en/listings/920391001-145-baan-chan-condominium-baan-chan-condominium---4141308, attempt 2: 500, message='Internal Server Error', url='https://propertyhub.in.th/en/listings/920391001-145-baan-chan-condominium-baan-chan-condominium---4141308'\n"
     ]
    },
    {
     "name": "stderr",
     "output_type": "stream",
     "text": [
      "Processing:   3%|▎         | 2934/111314 [03:44<2:17:06, 13.17it/s]"
     ]
    },
    {
     "name": "stdout",
     "output_type": "stream",
     "text": [
      "Error fetching https://propertyhub.in.th/en/listings/920021009-33-%E0%B8%82%E0%B8%B2%E0%B8%A2%E0%B8%84%E0%B8%AD%E0%B8%99%E0%B9%82%E0%B8%94%E0%B9%80%E0%B8%8B%E0%B9%87%E0%B8%99%E0%B8%97%E0%B8%A3%E0%B8%B4%E0%B8%84%E0%B8%8B%E0%B8%B5%E0%B8%99-%E0%B8%A3%E0%B8%B1%E0%B8%8A%E0%B8%A7%E0%B8%B4%E0%B8%A0%E0%B8%B2--a81f097a---4141298, attempt 2: 500, message='Internal Server Error', url='https://propertyhub.in.th/en/listings/920021009-33-%E0%B8%82%E0%B8%B2%E0%B8%A2%E0%B8%84%E0%B8%AD%E0%B8%99%E0%B9%82%E0%B8%94%E0%B9%80%E0%B8%8B%E0%B9%87%E0%B8%99%E0%B8%97%E0%B8%A3%E0%B8%B4%E0%B8%84%E0%B8%8B%E0%B8%B5%E0%B8%99-%E0%B8%A3%E0%B8%B1%E0%B8%8A%E0%B8%A7%E0%B8%B4%E0%B8%A0%E0%B8%B2--a81f097a---4141298'\n"
     ]
    },
    {
     "name": "stderr",
     "output_type": "stream",
     "text": [
      "Processing:   3%|▎         | 2959/111314 [03:46<3:27:25,  8.71it/s]"
     ]
    },
    {
     "name": "stdout",
     "output_type": "stream",
     "text": [
      "Error fetching https://propertyhub.in.th/en/listings/920391001-145-baan-chan-condominium-baan-chan-condominium---4141308, attempt 3: 500, message='Internal Server Error', url='https://propertyhub.in.th/en/listings/920391001-145-baan-chan-condominium-baan-chan-condominium---4141308'\n"
     ]
    },
    {
     "name": "stderr",
     "output_type": "stream",
     "text": [
      "Processing:   3%|▎         | 2994/111314 [03:48<2:26:50, 12.29it/s]"
     ]
    },
    {
     "name": "stdout",
     "output_type": "stream",
     "text": [
      "Error fetching https://propertyhub.in.th/en/listings/920021009-33-%E0%B8%82%E0%B8%B2%E0%B8%A2%E0%B8%84%E0%B8%AD%E0%B8%99%E0%B9%82%E0%B8%94%E0%B9%80%E0%B8%8B%E0%B9%87%E0%B8%99%E0%B8%97%E0%B8%A3%E0%B8%B4%E0%B8%84%E0%B8%8B%E0%B8%B5%E0%B8%99-%E0%B8%A3%E0%B8%B1%E0%B8%8A%E0%B8%A7%E0%B8%B4%E0%B8%A0%E0%B8%B2--a81f097a---4141298, attempt 3: 500, message='Internal Server Error', url='https://propertyhub.in.th/en/listings/920021009-33-%E0%B8%82%E0%B8%B2%E0%B8%A2%E0%B8%84%E0%B8%AD%E0%B8%99%E0%B9%82%E0%B8%94%E0%B9%80%E0%B8%8B%E0%B9%87%E0%B8%99%E0%B8%97%E0%B8%A3%E0%B8%B4%E0%B8%84%E0%B8%8B%E0%B8%B5%E0%B8%99-%E0%B8%A3%E0%B8%B1%E0%B8%8A%E0%B8%A7%E0%B8%B4%E0%B8%A0%E0%B8%B2--a81f097a---4141298'\n"
     ]
    },
    {
     "name": "stderr",
     "output_type": "stream",
     "text": [
      "Processing:   4%|▍         | 4928/111314 [06:05<2:40:25, 11.05it/s]"
     ]
    },
    {
     "name": "stdout",
     "output_type": "stream",
     "text": [
      "Error fetching https://propertyhub.in.th/en/listings/1-br-condo-at-the-coast-bangkok-near-bts-bang-na-id-593943---4287583, attempt 1: \n"
     ]
    },
    {
     "name": "stderr",
     "output_type": "stream",
     "text": [
      "Processing:   5%|▌         | 5808/111314 [07:09<3:01:03,  9.71it/s]"
     ]
    },
    {
     "name": "stdout",
     "output_type": "stream",
     "text": [
      "Error fetching https://propertyhub.in.th/en/listings/siri-at-sukhumvit-near-bts-thonglor--b69e0a1f---4545770, attempt 1: \n"
     ]
    },
    {
     "name": "stderr",
     "output_type": "stream",
     "text": [
      "Processing:   5%|▌         | 5975/111314 [07:21<2:41:24, 10.88it/s]"
     ]
    },
    {
     "name": "stdout",
     "output_type": "stream",
     "text": [
      "Error fetching https://propertyhub.in.th/en/listings/the-crest-sukhumvit-34-super-luxury-condo-convenient-travel-near-bts-thonglor---4549631, attempt 1: \n"
     ]
    },
    {
     "name": "stderr",
     "output_type": "stream",
     "text": [
      "Processing:   6%|▌         | 6143/111314 [07:35<2:26:57, 11.93it/s]"
     ]
    },
    {
     "name": "stdout",
     "output_type": "stream",
     "text": [
      "Error fetching https://propertyhub.in.th/en/listings/3-br-condo-at-fullerton-sukhumvit-near-bts-ekkamai-id-1525344---4630094, attempt 1: \n"
     ]
    },
    {
     "name": "stderr",
     "output_type": "stream",
     "text": [
      "Processing:   6%|▌         | 6180/111314 [07:38<2:09:12, 13.56it/s]"
     ]
    },
    {
     "name": "stdout",
     "output_type": "stream",
     "text": [
      "Error fetching https://propertyhub.in.th/en/listings/2-br-condo-at-the-madison-near-bts-phrom-phong-id-565308---4630104, attempt 1: \n"
     ]
    },
    {
     "name": "stderr",
     "output_type": "stream",
     "text": [
      "Processing:   6%|▌         | 6200/111314 [07:41<5:33:41,  5.25it/s]"
     ]
    },
    {
     "name": "stdout",
     "output_type": "stream",
     "text": [
      "Error fetching https://propertyhub.in.th/en/listings/metro-park-sathorn--b58009bc---4314096, attempt 1: \n"
     ]
    },
    {
     "name": "stderr",
     "output_type": "stream",
     "text": [
      "Processing:   6%|▌         | 6258/111314 [07:44<1:22:44, 21.16it/s]"
     ]
    },
    {
     "name": "stdout",
     "output_type": "stream",
     "text": [
      "Error fetching https://propertyhub.in.th/en/listings/supalai-park-srinakarin--baa70a42---4322006, attempt 1: \n"
     ]
    },
    {
     "name": "stderr",
     "output_type": "stream",
     "text": [
      "Processing:   7%|▋         | 7270/111314 [09:04<1:40:26, 17.26it/s]"
     ]
    },
    {
     "name": "stdout",
     "output_type": "stream",
     "text": [
      "Error fetching https://propertyhub.in.th/en/listings/scope-langsuan-1-bedroom-for-sale---3771470, attempt 1: \n",
      "Error fetching https://propertyhub.in.th/en/listings/le-raffine-jambu-dvipa-sukhumvit-39-2-bedrooms-for-sale---3771472, attempt 1: \n"
     ]
    },
    {
     "name": "stderr",
     "output_type": "stream",
     "text": [
      "Processing:   7%|▋         | 7297/111314 [09:06<1:31:49, 18.88it/s]"
     ]
    },
    {
     "name": "stdout",
     "output_type": "stream",
     "text": [
      "Error fetching https://propertyhub.in.th/en/listings/studio-bed-condo-in-q-asoke-ratchathewi-district-c016888---4030791, attempt 1: \n"
     ]
    },
    {
     "name": "stderr",
     "output_type": "stream",
     "text": [
      "Processing:   7%|▋         | 7784/111314 [09:42<1:37:58, 17.61it/s]"
     ]
    },
    {
     "name": "stdout",
     "output_type": "stream",
     "text": [
      "Error fetching https://propertyhub.in.th/en/listings/2-br-condo-at-life-sukhumvit-67-near-bts-phra-khanong-id-1145231--9b53088c---4630248, attempt 1: \n"
     ]
    },
    {
     "name": "stderr",
     "output_type": "stream",
     "text": [
      "Processing:   7%|▋         | 7891/111314 [09:53<3:47:32,  7.58it/s]"
     ]
    },
    {
     "name": "stdout",
     "output_type": "stream",
     "text": [
      "Error fetching https://propertyhub.in.th/en/listings/aspire-erawan--afbd098a---3930760, attempt 1: \n",
      "Error fetching https://propertyhub.in.th/en/listings/langsuan-ville-2-bedrooms-for-sale---3855694, attempt 1: \n"
     ]
    },
    {
     "name": "stderr",
     "output_type": "stream",
     "text": [
      "Processing:   7%|▋         | 7985/111314 [10:01<2:45:24, 10.41it/s]"
     ]
    },
    {
     "name": "stdout",
     "output_type": "stream",
     "text": [
      "Error fetching https://propertyhub.in.th/en/listings/brighton-place--a53008ec---3936214, attempt 1: \n"
     ]
    },
    {
     "name": "stderr",
     "output_type": "stream",
     "text": [
      "Processing:   7%|▋         | 8251/111314 [10:24<2:11:04, 13.10it/s]"
     ]
    },
    {
     "name": "stdout",
     "output_type": "stream",
     "text": [
      "Error fetching https://propertyhub.in.th/en/listings/bright-style-large-room-studio-with-partition-perfect-location-bts-thong-lo-at-condo-noble-remix-condo-for-sale---3467210, attempt 1: \n"
     ]
    },
    {
     "name": "stderr",
     "output_type": "stream",
     "text": [
      "Processing:   7%|▋         | 8281/111314 [10:26<2:00:24, 14.26it/s]"
     ]
    },
    {
     "name": "stdout",
     "output_type": "stream",
     "text": [
      "Error fetching https://propertyhub.in.th/en/listings/2-bed-condo-in-the-muse-bangchak-sub-district-c013695---4008681, attempt 1: \n"
     ]
    },
    {
     "name": "stderr",
     "output_type": "stream",
     "text": [
      "Processing:   8%|▊         | 8573/111314 [10:49<1:53:39, 15.07it/s]"
     ]
    },
    {
     "name": "stdout",
     "output_type": "stream",
     "text": [
      "Error fetching https://propertyhub.in.th/en/listings/d-condo-sukhumvit109--b1450913---3885896, attempt 1: \n",
      "Error fetching https://propertyhub.in.th/en/listings/2-br-condo-at-manhattan-chidlom-near-bts-chit-lom-id-566324--a0060965---4133702, attempt 1: \n"
     ]
    },
    {
     "name": "stderr",
     "output_type": "stream",
     "text": [
      "Processing:   8%|▊         | 8779/111314 [11:05<1:33:59, 18.18it/s]"
     ]
    },
    {
     "name": "stdout",
     "output_type": "stream",
     "text": [
      "Error fetching https://propertyhub.in.th/en/listings/2-bed-condo-in-click-condo-sukhumvit-65-phrakhanongnuea-sub-district-c016010--ae4909a2---4010016, attempt 1: \n"
     ]
    },
    {
     "name": "stderr",
     "output_type": "stream",
     "text": [
      "Processing:   9%|▉         | 10058/111314 [12:49<1:57:00, 14.42it/s]"
     ]
    },
    {
     "name": "stdout",
     "output_type": "stream",
     "text": [
      "Error fetching https://propertyhub.in.th/en/listings/urbana-sathorn-1-bedroom-for-sale---3769470, attempt 1: \n"
     ]
    },
    {
     "name": "stderr",
     "output_type": "stream",
     "text": [
      "Processing:   9%|▉         | 10460/111314 [13:22<1:55:50, 14.51it/s]"
     ]
    },
    {
     "name": "stdout",
     "output_type": "stream",
     "text": [
      "Error fetching https://propertyhub.in.th/en/listings/combine-1-bed-1-livingroom-2-baths-on-high-fl-20-close-to-bts-phrom-phong-at-park-24-or-park-origin-phrom-phong-condo-condo-for-sale---3191965, attempt 1: \n"
     ]
    },
    {
     "name": "stderr",
     "output_type": "stream",
     "text": [
      "Processing:  10%|▉         | 10704/111314 [13:42<2:40:02, 10.48it/s]"
     ]
    },
    {
     "name": "stdout",
     "output_type": "stream",
     "text": [
      "Error fetching https://propertyhub.in.th/en/listings/hot-price-4-1-mb-1-bed-nice-room-good-location-close-to-bts-ekkamai-600-m-at-quintara-treehaus-sukhumvit-42-condo-for-sale---3856364, attempt 1: \n"
     ]
    },
    {
     "name": "stderr",
     "output_type": "stream",
     "text": [
      "Processing:  10%|▉         | 10732/111314 [13:44<2:19:43, 12.00it/s]"
     ]
    },
    {
     "name": "stdout",
     "output_type": "stream",
     "text": [
      "Error fetching https://propertyhub.in.th/en/listings/1-bed-1-bath-with-partition-homey-style-high-fl-15-good-location-bts-phloen-chit-600-m-at-life-one-wireless-condo-for-sale---3859842, attempt 1: \n"
     ]
    },
    {
     "name": "stderr",
     "output_type": "stream",
     "text": [
      "Processing:  11%|█         | 11757/111314 [15:02<1:19:52, 20.77it/s]"
     ]
    },
    {
     "name": "stdout",
     "output_type": "stream",
     "text": [
      "Error fetching https://propertyhub.in.th/en/listings/1-bed-condo-in-ceil-by-sansiri-khlong-tan-nuea-sub-district-c09551---4012759, attempt 1: \n"
     ]
    },
    {
     "name": "stderr",
     "output_type": "stream",
     "text": [
      "Processing:  11%|█         | 11768/111314 [15:03<2:30:09, 11.05it/s]"
     ]
    },
    {
     "name": "stdout",
     "output_type": "stream",
     "text": [
      "Error fetching https://propertyhub.in.th/en/listings/condo-for-sale-raintree-villa-sukhumvit-53-700-m-to-bts-thonglor---4111306, attempt 1: \n"
     ]
    },
    {
     "name": "stderr",
     "output_type": "stream",
     "text": [
      "Processing:  11%|█         | 11779/111314 [15:04<2:04:10, 13.36it/s]"
     ]
    },
    {
     "name": "stdout",
     "output_type": "stream",
     "text": [
      "Error fetching https://propertyhub.in.th/en/listings/for-sale-ivy-thonglor-1-bedroom-corner-room-private-zone-large-size-43-sq-m-beautiful-neat-and-ready-to-move-in---4220017, attempt 1: \n"
     ]
    },
    {
     "name": "stderr",
     "output_type": "stream",
     "text": [
      "Processing:  11%|█         | 12389/111314 [15:52<2:25:05, 11.36it/s]"
     ]
    },
    {
     "name": "stdout",
     "output_type": "stream",
     "text": [
      "Error fetching https://propertyhub.in.th/en/listings/1-br-condo-at-the-address-chidlom-near-bts-chit-lom-id-825213---4133816, attempt 1: \n"
     ]
    },
    {
     "name": "stderr",
     "output_type": "stream",
     "text": [
      "Processing:  12%|█▏        | 12867/111314 [16:28<1:26:01, 19.07it/s]"
     ]
    },
    {
     "name": "stdout",
     "output_type": "stream",
     "text": [
      "Error fetching https://propertyhub.in.th/en/listings/condo-for-sale-1-bedroom-supalai-casa-riva-vista-2-size-65-sqm-9th-floor-river-view---2930767, attempt 1: \n"
     ]
    },
    {
     "name": "stderr",
     "output_type": "stream",
     "text": [
      "Processing:  12%|█▏        | 13193/111314 [16:54<2:34:42, 10.57it/s]"
     ]
    },
    {
     "name": "stdout",
     "output_type": "stream",
     "text": [
      "Error fetching https://propertyhub.in.th/en/listings/sc0395sale-u-delight-2-bang-sue-station-%E2%AC%9B-065-695-3645%E2%AC%9B---4577579, attempt 1: \n"
     ]
    },
    {
     "name": "stderr",
     "output_type": "stream",
     "text": [
      "Processing:  12%|█▏        | 13200/111314 [16:54<2:17:47, 11.87it/s]"
     ]
    },
    {
     "name": "stdout",
     "output_type": "stream",
     "text": [
      "Error fetching https://propertyhub.in.th/en/listings/1-bed-condo-in-muniq-langsuan-pathum-wan-district-c018795---4035579, attempt 1: \n"
     ]
    },
    {
     "name": "stderr",
     "output_type": "stream",
     "text": [
      "Processing:  12%|█▏        | 13233/111314 [16:57<2:53:15,  9.43it/s]"
     ]
    },
    {
     "name": "stdout",
     "output_type": "stream",
     "text": [
      "Error fetching https://propertyhub.in.th/en/listings/2-bed-condo-in-aspire-sukhumvit-48-phra-khanong-sub-district-c012049---4010214, attempt 1: \n"
     ]
    },
    {
     "name": "stderr",
     "output_type": "stream",
     "text": [
      "Processing:  13%|█▎        | 14367/111314 [18:29<2:47:59,  9.62it/s]"
     ]
    },
    {
     "name": "stdout",
     "output_type": "stream",
     "text": [
      "Error fetching https://propertyhub.in.th/en/listings/2-br-condo-at-the-address-sukhumvit-28-near-bts-phrom-phong-id-1528946---4441685, attempt 1: \n"
     ]
    },
    {
     "name": "stderr",
     "output_type": "stream",
     "text": [
      "Processing:  16%|█▌        | 17450/111314 [22:40<2:07:54, 12.23it/s]"
     ]
    },
    {
     "name": "stdout",
     "output_type": "stream",
     "text": [
      "Error fetching https://propertyhub.in.th/en/listings/sathorn-happy-land-tower--a1200939---4155901, attempt 1: \n"
     ]
    },
    {
     "name": "stderr",
     "output_type": "stream",
     "text": [
      "Processing:  16%|█▌        | 17488/111314 [22:43<1:54:15, 13.69it/s]"
     ]
    },
    {
     "name": "stdout",
     "output_type": "stream",
     "text": [
      "Error fetching https://propertyhub.in.th/en/listings/2-br-condo-at-baan-mai-khao-phuket-close-to-mai-khao-id-1394921---4152004, attempt 1: \n"
     ]
    },
    {
     "name": "stderr",
     "output_type": "stream",
     "text": [
      "Processing:  16%|█▌        | 17714/111314 [23:02<2:14:06, 11.63it/s]"
     ]
    },
    {
     "name": "stdout",
     "output_type": "stream",
     "text": [
      "Error fetching https://propertyhub.in.th/en/listings/sale-at-loss-project-name-the-knight-i---4473663, attempt 1: \n"
     ]
    },
    {
     "name": "stderr",
     "output_type": "stream",
     "text": [
      "Processing:  19%|█▉        | 21020/111314 [27:30<2:35:36,  9.67it/s]"
     ]
    },
    {
     "name": "stdout",
     "output_type": "stream",
     "text": [
      "Error fetching https://propertyhub.in.th/en/listings/3-br-house-at-baan-plai-haad-pattaya-close-to-pattaya-north-id-1405913---4568247, attempt 1: \n"
     ]
    },
    {
     "name": "stderr",
     "output_type": "stream",
     "text": [
      "Processing:  20%|██        | 22275/111314 [29:13<1:38:27, 15.07it/s]"
     ]
    },
    {
     "name": "stdout",
     "output_type": "stream",
     "text": [
      "Error fetching https://propertyhub.in.th/en/listings/for-sales-supalai-elite-phayathai-499-120---4681949, attempt 1: \n",
      "Error fetching https://propertyhub.in.th/en/listings/sale-khun-by-yoo-%F0%9D%92%B8%F0%9D%91%9C%F0%9D%93%83%F0%9D%93%89%F0%9D%92%B6%F0%9D%92%B8%F0%9D%93%89%F0%9D%93%81%F0%9D%92%BE%F0%9D%93%83%F0%9D%91%92-%EF%B8%8F-%F0%9D%90%9C%F0%9D%90%A8%F0%9D%90%A7%F0%9D%90%9D%F0%9D%90%A8%F0%9D%90%AB%F0%9D%90%A8%F0%9D%90%A8%F0%9D%90%A3%F0%9D%90%9A%F0%9D%90%A2-%EF%B8%8F-rjp2284--aa7e096c---4337994, attempt 1: \n"
     ]
    },
    {
     "name": "stderr",
     "output_type": "stream",
     "text": [
      "Processing:  20%|██        | 22288/111314 [29:14<1:37:34, 15.21it/s]"
     ]
    },
    {
     "name": "stdout",
     "output_type": "stream",
     "text": [
      "Error fetching https://propertyhub.in.th/en/listings/condo-for-sale-ideo-satorn-taksin-3-8baht-0958195559---4317975, attempt 1: \n"
     ]
    },
    {
     "name": "stderr",
     "output_type": "stream",
     "text": [
      "Processing:  21%|██        | 23036/111314 [30:19<4:35:14,  5.35it/s]"
     ]
    },
    {
     "name": "stdout",
     "output_type": "stream",
     "text": [
      "Error fetching https://propertyhub.in.th/en/listings/baan-sathorn-chaophraya-pn-00006386---4619308, attempt 1: \n"
     ]
    },
    {
     "name": "stderr",
     "output_type": "stream",
     "text": [
      "Processing:  22%|██▏       | 23971/111314 [31:38<2:07:32, 11.41it/s]"
     ]
    },
    {
     "name": "stdout",
     "output_type": "stream",
     "text": [
      "Error fetching https://propertyhub.in.th/en/listings/1-br-condo-at-the-stage-made-by-me-ratchada-huaikhwang-near-mrt-huai-khwang-id-1483609---4533154, attempt 1: \n"
     ]
    },
    {
     "name": "stderr",
     "output_type": "stream",
     "text": [
      "Processing:  22%|██▏       | 24106/111314 [31:48<1:32:28, 15.72it/s]"
     ]
    },
    {
     "name": "stdout",
     "output_type": "stream",
     "text": [
      "Error fetching https://propertyhub.in.th/en/listings/condo-for-sale-the-niche-pride-thonglor-phetchaburi-fully-furnished-with-tenant--a45b0942---4024597, attempt 1: \n"
     ]
    },
    {
     "name": "stderr",
     "output_type": "stream",
     "text": [
      "Processing:  22%|██▏       | 24112/111314 [31:50<5:23:39,  4.49it/s]"
     ]
    },
    {
     "name": "stdout",
     "output_type": "stream",
     "text": [
      "Error fetching https://propertyhub.in.th/en/listings/1-br-condo-at-pg-rama-9-near-mrt-phra-ram-9-id-1701404---4584168, attempt 1: \n"
     ]
    },
    {
     "name": "stderr",
     "output_type": "stream",
     "text": [
      "Processing:  22%|██▏       | 24589/111314 [32:31<2:57:35,  8.14it/s]"
     ]
    },
    {
     "name": "stdout",
     "output_type": "stream",
     "text": [
      "Error fetching https://propertyhub.in.th/en/listings/sale-lumpini-park-rama-9-ratchada-%F0%9D%92%B8%F0%9D%91%9C%F0%9D%93%83%F0%9D%93%89%F0%9D%92%B6%F0%9D%92%B8%F0%9D%93%89%F0%9D%93%81%F0%9D%92%BE%F0%9D%93%83%F0%9D%91%92-%EF%B8%8F-%F0%9D%90%9C%F0%9D%90%A8%F0%9D%90%A7%F0%9D%90%9D%F0%9D%90%A8%F0%9D%90%AB%F0%9D%90%A8%F0%9D%90%A8%F0%9D%90%A3%F0%9D%90%9A%F0%9D%90%A2-%EF%B8%8F-rjp4019---4448002, attempt 1: \n"
     ]
    },
    {
     "name": "stderr",
     "output_type": "stream",
     "text": [
      "Processing:  22%|██▏       | 24631/111314 [32:34<1:37:05, 14.88it/s]"
     ]
    },
    {
     "name": "stdout",
     "output_type": "stream",
     "text": [
      "Error fetching https://propertyhub.in.th/en/listings/p-31326-condo-for-for-sell-the-station-sathorn-bangrak-condominium-fully-furnished---4446797, attempt 1: \n"
     ]
    },
    {
     "name": "stderr",
     "output_type": "stream",
     "text": [
      "Processing:  23%|██▎       | 25265/111314 [33:29<2:11:42, 10.89it/s]"
     ]
    },
    {
     "name": "stdout",
     "output_type": "stream",
     "text": [
      "Error fetching https://propertyhub.in.th/en/listings/sale-the-tree-charan-30-%F0%9D%92%B8%F0%9D%91%9C%F0%9D%93%83%F0%9D%93%89%F0%9D%92%B6%F0%9D%92%B8%F0%9D%93%89%F0%9D%93%81%F0%9D%92%BE%F0%9D%93%83%F0%9D%91%92-%EF%B8%8F-%F0%9D%90%9C%F0%9D%90%A8%F0%9D%90%A7%F0%9D%90%9D%F0%9D%90%A8%F0%9D%90%AB%F0%9D%90%A8%F0%9D%90%A8%F0%9D%90%A3%F0%9D%90%9A%F0%9D%90%A2-%EF%B8%8F-rjp4638---4495296, attempt 1: \n"
     ]
    },
    {
     "name": "stderr",
     "output_type": "stream",
     "text": [
      "Processing:  23%|██▎       | 25656/111314 [34:01<2:04:59, 11.42it/s]"
     ]
    },
    {
     "name": "stdout",
     "output_type": "stream",
     "text": [
      "Error fetching https://propertyhub.in.th/en/listings/2-br-condo-at-supalai-veranda-rama-9-in-bang-kapi-id-1467088---4311187, attempt 1: \n"
     ]
    },
    {
     "name": "stderr",
     "output_type": "stream",
     "text": [
      "Processing:  24%|██▎       | 26214/111314 [34:50<2:15:25, 10.47it/s]"
     ]
    },
    {
     "name": "stdout",
     "output_type": "stream",
     "text": [
      "Error fetching https://propertyhub.in.th/en/listings/sale-the-line-jatujak-mochit-%F0%9D%92%B8%F0%9D%91%9C%F0%9D%93%83%F0%9D%93%89%F0%9D%92%B6%F0%9D%92%B8%F0%9D%93%89%F0%9D%93%81%F0%9D%92%BE%F0%9D%93%83%F0%9D%91%92-%EF%B8%8F-%F0%9D%90%9C%F0%9D%90%A8%F0%9D%90%A7%F0%9D%90%9D%F0%9D%90%A8%F0%9D%90%AB%F0%9D%90%A8%F0%9D%90%A8%F0%9D%90%A3%F0%9D%90%9A%F0%9D%90%A2-%EF%B8%8F-rjp1975---4314525, attempt 1: \n"
     ]
    },
    {
     "name": "stderr",
     "output_type": "stream",
     "text": [
      "Processing:  24%|██▍       | 26610/111314 [35:23<2:18:46, 10.17it/s]"
     ]
    },
    {
     "name": "stdout",
     "output_type": "stream",
     "text": [
      "Error fetching https://propertyhub.in.th/en/listings/for-sell-condo-the-iris-rama-9-srinakarin-building-b-floor-2-1-bed-room-room-size-46-sqm--a920099f---4712042, attempt 1: \n"
     ]
    },
    {
     "name": "stderr",
     "output_type": "stream",
     "text": [
      "Processing:  24%|██▍       | 26912/111314 [35:50<2:10:22, 10.79it/s]"
     ]
    },
    {
     "name": "stdout",
     "output_type": "stream",
     "text": [
      "Error fetching https://propertyhub.in.th/en/listings/the-esse-at-singha-complex--a00908c8---3965230, attempt 1: \n"
     ]
    },
    {
     "name": "stderr",
     "output_type": "stream",
     "text": [
      "Processing:  24%|██▍       | 27061/111314 [36:02<1:28:52, 15.80it/s]"
     ]
    },
    {
     "name": "stdout",
     "output_type": "stream",
     "text": [
      "Error fetching https://propertyhub.in.th/en/listings/sale-the-waterford-sukhumvit-50-%F0%9D%92%B8%F0%9D%91%9C%F0%9D%93%83%F0%9D%93%89%F0%9D%93%87%F0%9D%92%B6%F0%9D%92%B8%F0%9D%93%89-%F0%9D%93%81%F0%9D%92%BE%F0%9D%93%83%F0%9D%91%92-%EF%B8%8F-%F0%9D%90%9C%F0%9D%90%A8%F0%9D%90%A7%F0%9D%90%9D%F0%9D%90%A8%F0%9D%90%AB%F0%9D%90%A8%F0%9D%90%A8%F0%9D%90%A3%F0%9D%90%9A%F0%9D%90%A2-%EF%B8%8F-rjp1430---4234564, attempt 1: \n"
     ]
    },
    {
     "name": "stderr",
     "output_type": "stream",
     "text": [
      "Processing:  25%|██▌       | 28310/111314 [37:52<3:14:20,  7.12it/s]"
     ]
    },
    {
     "name": "stdout",
     "output_type": "stream",
     "text": [
      "Error fetching https://propertyhub.in.th/en/listings/lumpini-park-rama-9-ratchada--ba1e09b8---3865799, attempt 1: \n"
     ]
    },
    {
     "name": "stderr",
     "output_type": "stream",
     "text": [
      "Processing:  26%|██▌       | 28389/111314 [37:59<3:16:09,  7.05it/s]"
     ]
    },
    {
     "name": "stdout",
     "output_type": "stream",
     "text": [
      "Error fetching https://propertyhub.in.th/en/listings/code-c20240100295-the-signature-by-urbano-for-sale-2-bedroom-1-bathroom-high-floor-furnished-special-deal---4671962, attempt 1: \n",
      "Error fetching https://propertyhub.in.th/en/listings/2-bed-condo-in-q-langsuan-lumphini-sub-district-c014070---4009363, attempt 1: \n"
     ]
    },
    {
     "name": "stderr",
     "output_type": "stream",
     "text": [
      "Processing:  26%|██▌       | 28429/111314 [38:03<2:05:34, 11.00it/s]"
     ]
    },
    {
     "name": "stdout",
     "output_type": "stream",
     "text": [
      "Error fetching https://propertyhub.in.th/en/listings/1-bed-condo-in-the-sky-sukhumvit-bang-na-sub-district-c020929---4482971, attempt 1: \n"
     ]
    },
    {
     "name": "stderr",
     "output_type": "stream",
     "text": [
      "Processing:  26%|██▌       | 28472/111314 [38:07<2:49:11,  8.16it/s]"
     ]
    },
    {
     "name": "stdout",
     "output_type": "stream",
     "text": [
      "Error fetching https://propertyhub.in.th/en/listings/3-br-condo-at-brighton-place-condominium-near-arl-ramkhamhaeng-id-1491315---4351035, attempt 1: \n"
     ]
    },
    {
     "name": "stderr",
     "output_type": "stream",
     "text": [
      "Processing:  26%|██▌       | 28493/111314 [38:09<1:20:58, 17.04it/s]"
     ]
    },
    {
     "name": "stdout",
     "output_type": "stream",
     "text": [
      "Error fetching https://propertyhub.in.th/en/listings/life-pinklao--b0340a1d---4260819, attempt 1: \n"
     ]
    },
    {
     "name": "stderr",
     "output_type": "stream",
     "text": [
      "Processing:  26%|██▌       | 28789/111314 [38:35<1:39:47, 13.78it/s]"
     ]
    },
    {
     "name": "stdout",
     "output_type": "stream",
     "text": [
      "Error fetching https://propertyhub.in.th/en/listings/elio-del-moss-phaholyothin-34--bae909da---4276749, attempt 1: \n",
      "Error fetching https://propertyhub.in.th/en/listings/sale-the-vertical-aree-%F0%9D%92%B8%F0%9D%91%9C%F0%9D%93%83%F0%9D%93%89%F0%9D%92%B6%F0%9D%92%B8%F0%9D%93%89%F0%9D%93%81%F0%9D%92%BE%F0%9D%93%83%F0%9D%91%92-%EF%B8%8F-%F0%9D%90%9C%F0%9D%90%A8%F0%9D%90%A7%F0%9D%90%9D%F0%9D%90%A8%F0%9D%90%AB%F0%9D%90%A8%F0%9D%90%A8%F0%9D%90%A3%F0%9D%90%9A%F0%9D%90%A2-%EF%B8%8F-rjp3716---4431551, attempt 1: \n"
     ]
    },
    {
     "name": "stderr",
     "output_type": "stream",
     "text": [
      "Processing:  27%|██▋       | 30197/111314 [40:40<2:10:28, 10.36it/s]"
     ]
    },
    {
     "name": "stdout",
     "output_type": "stream",
     "text": [
      "Error fetching https://propertyhub.in.th/en/listings/city-home-srinakarin-lasalle--a94309ac---4151444, attempt 1: \n"
     ]
    },
    {
     "name": "stderr",
     "output_type": "stream",
     "text": [
      "Processing:  27%|██▋       | 30250/111314 [40:45<2:10:18, 10.37it/s]"
     ]
    },
    {
     "name": "stdout",
     "output_type": "stream",
     "text": [
      "Error fetching https://propertyhub.in.th/en/listings/7-88-mb-1-bed-57-92-sq-m-good-location-shuttle-tuk-tuk-to-bts-phloen-chit-station-at-noble-above-wireless-ruamrudee-condo-for-sale---4428981, attempt 1: \n"
     ]
    },
    {
     "name": "stderr",
     "output_type": "stream",
     "text": [
      "Processing:  28%|██▊       | 31188/111314 [42:07<2:47:23,  7.98it/s]"
     ]
    },
    {
     "name": "stdout",
     "output_type": "stream",
     "text": [
      "Error fetching https://propertyhub.in.th/en/listings/s-mtc108-miti-chiva-kaset-station-23rd-floor-city-view-34-sq-m-1-bedroom-1-bathroom-7-1-million-099-251-6615---4322903, attempt 1: \n",
      "Error fetching https://propertyhub.in.th/en/listings/for-sale-condo-siamese-ratchakru-phaya-thai-district-convenient-location-near-bts-sanam-pao-bts-ari-mb0834--b35a09c4---4595069, attempt 1: \n"
     ]
    },
    {
     "name": "stderr",
     "output_type": "stream",
     "text": [
      "Processing:  28%|██▊       | 31197/111314 [42:07<1:59:12, 11.20it/s]"
     ]
    },
    {
     "name": "stdout",
     "output_type": "stream",
     "text": [
      "Error fetching https://propertyhub.in.th/en/listings/for-sale-lumpini-ville-pranangklao-riverview-890000-baht---4581692, attempt 1: \n",
      "Error fetching https://propertyhub.in.th/en/listings/s-vtr106-vantage-ratchavipha-23rd-floor-city-view-50-sq-m-1-bedroom-1-bathroom-4-19-million-092-597-4998---4322923, attempt 1: \n",
      "Error fetching https://propertyhub.in.th/en/listings/for-sale-the-base-chaengwattana-1590000-baht---3615500, attempt 1: \n"
     ]
    },
    {
     "name": "stderr",
     "output_type": "stream",
     "text": [
      "Processing:  28%|██▊       | 31203/111314 [42:09<3:20:36,  6.66it/s]"
     ]
    },
    {
     "name": "stdout",
     "output_type": "stream",
     "text": [
      "Error fetching https://propertyhub.in.th/en/listings/urgent-sale-%EF%B8%8F-%E2%AD%90%EF%B8%8F-wind-ratchayothin-condominium-%E2%AD%90%EF%B8%8F-mb9974---4593822, attempt 1: \n"
     ]
    },
    {
     "name": "stderr",
     "output_type": "stream",
     "text": [
      "Processing:  28%|██▊       | 31213/111314 [42:10<1:56:52, 11.42it/s]"
     ]
    },
    {
     "name": "stdout",
     "output_type": "stream",
     "text": [
      "Error fetching https://propertyhub.in.th/en/listings/s-nvr102-na-vara-residence-3rd-floor-city-view-44-sq-m-1-bedroom-1-bathroom-11-33-million-092-597-4998---4322999, attempt 1: \n",
      "Error fetching https://propertyhub.in.th/en/listings/1-br-duplex-at-siamese-rama-9-in-bang-kapi-id-1316003---4635796, attempt 1: \n"
     ]
    },
    {
     "name": "stderr",
     "output_type": "stream",
     "text": [
      "Processing:  28%|██▊       | 31221/111314 [42:11<2:21:55,  9.41it/s]"
     ]
    },
    {
     "name": "stdout",
     "output_type": "stream",
     "text": [
      "Error fetching https://propertyhub.in.th/en/listings/urgently-xt-huaikhwang-for-sale-with-fully-furnished--b4ad0a07---4595696, attempt 1: \n"
     ]
    },
    {
     "name": "stderr",
     "output_type": "stream",
     "text": [
      "Processing:  28%|██▊       | 31241/111314 [42:13<1:48:58, 12.25it/s]"
     ]
    },
    {
     "name": "stdout",
     "output_type": "stream",
     "text": [
      "Error fetching https://propertyhub.in.th/en/listings/2-br-condo-at-condo-one-siam-condominium-near-bts-national-stadium-id-629142---4367559, attempt 1: \n"
     ]
    },
    {
     "name": "stderr",
     "output_type": "stream",
     "text": [
      "Processing:  28%|██▊       | 31253/111314 [42:15<3:07:23,  7.12it/s]"
     ]
    },
    {
     "name": "stdout",
     "output_type": "stream",
     "text": [
      "Error fetching https://propertyhub.in.th/en/listings/s-atj104-ashton-chula-silom-21st-floor-city-view-32-5-sq-m-1-bedroom-1-bathroom-8-2-million-sold-with-tenant-092-597-4998---4326837, attempt 1: \n"
     ]
    },
    {
     "name": "stderr",
     "output_type": "stream",
     "text": [
      "Processing:  28%|██▊       | 31321/111314 [42:21<2:33:45,  8.67it/s]"
     ]
    },
    {
     "name": "stdout",
     "output_type": "stream",
     "text": [
      "Error fetching https://propertyhub.in.th/en/listings/for-sale-lumpini-ville-pranangklao-riverview-890000-baht---4581692, attempt 2: \n",
      "Error fetching https://propertyhub.in.th/en/listings/1-bed-condo-in-ashton-chula-silom-mahaphruettharam-sub-district-c09973---4012925, attempt 1: \n"
     ]
    },
    {
     "name": "stderr",
     "output_type": "stream",
     "text": [
      "Processing:  28%|██▊       | 31357/111314 [42:24<1:58:42, 11.23it/s]"
     ]
    },
    {
     "name": "stdout",
     "output_type": "stream",
     "text": [
      "Error fetching https://propertyhub.in.th/en/listings/1-bed-condo-in-the-lumpini-24-khlongtan-sub-district-c07318---4010939, attempt 1: \n"
     ]
    },
    {
     "name": "stderr",
     "output_type": "stream",
     "text": [
      "Processing:  28%|██▊       | 31361/111314 [42:24<1:43:07, 12.92it/s]"
     ]
    },
    {
     "name": "stdout",
     "output_type": "stream",
     "text": [
      "Error fetching https://propertyhub.in.th/en/listings/2-br-condo-at-the-peak-towers-close-to-phratamnak-id-1000873---4367683, attempt 1: \n"
     ]
    },
    {
     "name": "stderr",
     "output_type": "stream",
     "text": [
      "Processing:  28%|██▊       | 31488/111314 [42:35<2:57:09,  7.51it/s]"
     ]
    },
    {
     "name": "stdout",
     "output_type": "stream",
     "text": [
      "Error fetching https://propertyhub.in.th/en/listings/lumpini-condo-town-nida-serithai-2--a62a0946---4657620, attempt 1: \n",
      "Error fetching https://propertyhub.in.th/en/listings/s-rctp101-condo-for-sale-ratchayothin-place-7th-floor-building-c-size-58-sqm-2-bed-1-bath-2-8-million-099-251-6615---4470632, attempt 1: \n"
     ]
    },
    {
     "name": "stderr",
     "output_type": "stream",
     "text": [
      "Processing:  29%|██▊       | 31919/111314 [43:15<2:27:08,  8.99it/s]"
     ]
    },
    {
     "name": "stdout",
     "output_type": "stream",
     "text": [
      "Error fetching https://propertyhub.in.th/en/listings/tqs05-0975-urgent-sale-the-key-chaengwattana---4470400, attempt 1: \n"
     ]
    },
    {
     "name": "stderr",
     "output_type": "stream",
     "text": [
      "Processing:  29%|██▊       | 31929/111314 [43:15<1:19:28, 16.65it/s]"
     ]
    },
    {
     "name": "stdout",
     "output_type": "stream",
     "text": [
      "Error fetching https://propertyhub.in.th/en/listings/condo-for-sale-the-base-sukhumvit-50-fully-furnished-with-tenant--a8c60952---3708923, attempt 1: \n"
     ]
    },
    {
     "name": "stderr",
     "output_type": "stream",
     "text": [
      "Processing:  30%|██▉       | 33075/111314 [44:59<2:03:21, 10.57it/s]"
     ]
    },
    {
     "name": "stdout",
     "output_type": "stream",
     "text": [
      "Error fetching https://propertyhub.in.th/en/listings/sjul1276-for-sale-rajvithi-city-resort---4570038, attempt 1: \n"
     ]
    },
    {
     "name": "stderr",
     "output_type": "stream",
     "text": [
      "Processing:  30%|██▉       | 33082/111314 [44:59<1:44:18, 12.50it/s]"
     ]
    },
    {
     "name": "stdout",
     "output_type": "stream",
     "text": [
      "Error fetching https://propertyhub.in.th/en/listings/s-lpnbd109-lumpini-bodindecha-29-sqm-7th-floor-1-55-mb-092-597-4998---3968517, attempt 1: \n"
     ]
    },
    {
     "name": "stderr",
     "output_type": "stream",
     "text": [
      "Processing:  30%|██▉       | 33131/111314 [45:04<1:57:34, 11.08it/s]"
     ]
    },
    {
     "name": "stdout",
     "output_type": "stream",
     "text": [
      "Error fetching https://propertyhub.in.th/en/listings/s-lpnbd110-lumpini-bodindecha-28-sqm-6th-floor-1-59-mb-092-597-4998---4014115, attempt 1: \n"
     ]
    },
    {
     "name": "stderr",
     "output_type": "stream",
     "text": [
      "Processing:  30%|██▉       | 33270/111314 [45:16<1:59:32, 10.88it/s]"
     ]
    },
    {
     "name": "stdout",
     "output_type": "stream",
     "text": [
      "Error fetching https://propertyhub.in.th/en/listings/the-legend-saladaeng--bb530984---4029364, attempt 1: \n"
     ]
    },
    {
     "name": "stderr",
     "output_type": "stream",
     "text": [
      "Processing:  30%|██▉       | 33304/111314 [45:19<1:21:20, 15.98it/s]"
     ]
    },
    {
     "name": "stdout",
     "output_type": "stream",
     "text": [
      "Error fetching https://propertyhub.in.th/en/listings/cooper-siam--af94094b---4037174, attempt 1: \n"
     ]
    },
    {
     "name": "stderr",
     "output_type": "stream",
     "text": [
      "Processing:  30%|███       | 33944/111314 [46:19<2:01:47, 10.59it/s]"
     ]
    },
    {
     "name": "stdout",
     "output_type": "stream",
     "text": [
      "Error fetching https://propertyhub.in.th/en/listings/saug1460-selling-the-link-sukhumvit-50---4632538, attempt 1: \n"
     ]
    },
    {
     "name": "stderr",
     "output_type": "stream",
     "text": [
      "Processing:  31%|███       | 33955/111314 [46:20<2:57:42,  7.26it/s]"
     ]
    },
    {
     "name": "stdout",
     "output_type": "stream",
     "text": [
      "Error fetching https://propertyhub.in.th/en/listings/sale-condo-tc-tower-only-1-9-m-size-66-sqm-2-bed-2-bath--a6d108ca---4310164, attempt 1: \n"
     ]
    },
    {
     "name": "stderr",
     "output_type": "stream",
     "text": [
      "Processing:  31%|███       | 33996/111314 [46:24<1:49:53, 11.73it/s]"
     ]
    },
    {
     "name": "stdout",
     "output_type": "stream",
     "text": [
      "Error fetching https://propertyhub.in.th/en/listings/ssep1484-selling-life-asoke-rama-9---4643988, attempt 1: \n"
     ]
    },
    {
     "name": "stderr",
     "output_type": "stream",
     "text": [
      "Processing:  32%|███▏      | 35259/111314 [48:20<2:00:05, 10.55it/s]"
     ]
    },
    {
     "name": "stdout",
     "output_type": "stream",
     "text": [
      "Error fetching https://propertyhub.in.th/en/listings/sale-q-langsuan-%F0%9D%92%B8%F0%9D%91%9C%F0%9D%93%83%F0%9D%93%89%F0%9D%92%B6%F0%9D%92%B8%F0%9D%93%89%F0%9D%93%81%F0%9D%92%BE%F0%9D%93%83%F0%9D%91%92-%EF%B8%8F-%F0%9D%90%9C%F0%9D%90%A8%F0%9D%90%A7%F0%9D%90%9D%F0%9D%90%A8%F0%9D%90%AB%F0%9D%90%A8%F0%9D%90%A8%F0%9D%90%A3%F0%9D%90%9A%F0%9D%90%A2-%EF%B8%8F-rjp4189---4460543, attempt 1: \n"
     ]
    },
    {
     "name": "stderr",
     "output_type": "stream",
     "text": [
      "Processing:  32%|███▏      | 35288/111314 [48:22<1:47:29, 11.79it/s]"
     ]
    },
    {
     "name": "stdout",
     "output_type": "stream",
     "text": [
      "Error fetching https://propertyhub.in.th/en/listings/sale-lumpini-ville-chaengwatthana-pakkret-%F0%9D%92%B8%F0%9D%91%9C%F0%9D%93%83%F0%9D%93%89%F0%9D%92%B6%F0%9D%92%B8%F0%9D%93%89%F0%9D%93%81%F0%9D%92%BE%F0%9D%93%83%F0%9D%91%92-%EF%B8%8F-%F0%9D%90%9C%F0%9D%90%A8%F0%9D%90%A7%F0%9D%90%9D%F0%9D%90%A8%F0%9D%90%AB%F0%9D%90%A8%F0%9D%90%A8%F0%9D%90%A3%F0%9D%90%9A%F0%9D%90%A2-%EF%B8%8F-rjp4230---4464016, attempt 1: \n"
     ]
    },
    {
     "name": "stderr",
     "output_type": "stream",
     "text": [
      "Processing:  32%|███▏      | 35826/111314 [49:12<1:27:57, 14.30it/s]"
     ]
    },
    {
     "name": "stdout",
     "output_type": "stream",
     "text": [
      "Error fetching https://propertyhub.in.th/en/listings/s-ihg117-condo-for-sale-i-house-laguna-garden-rca-building-f-7th-floor-city-view-52-sq-m-1-bedroom-1-bathroom-3-million-064-959-8900---4654799, attempt 1: \n",
      "Error fetching https://propertyhub.in.th/en/listings/for-sale-ideo-mobi-rangnam-beautiful-room-with-good-price---4453091, attempt 1: \n"
     ]
    },
    {
     "name": "stderr",
     "output_type": "stream",
     "text": [
      "Processing:  32%|███▏      | 35914/111314 [49:21<2:19:01,  9.04it/s]"
     ]
    },
    {
     "name": "stdout",
     "output_type": "stream",
     "text": [
      "Error fetching https://propertyhub.in.th/en/listings/the-lumpini24--aed70971---3891503, attempt 1: \n"
     ]
    },
    {
     "name": "stderr",
     "output_type": "stream",
     "text": [
      "Processing:  33%|███▎      | 36456/111314 [50:10<2:07:25,  9.79it/s]"
     ]
    },
    {
     "name": "stdout",
     "output_type": "stream",
     "text": [
      "Error fetching https://propertyhub.in.th/en/listings/s-lah135-condo-for-sale-life-asoke-hype-building-a-15th-floor-city-view-32-sq-m-1-bedroom-1-bathroom-4-6-million-099-251-6615---4548611, attempt 1: \n"
     ]
    },
    {
     "name": "stderr",
     "output_type": "stream",
     "text": [
      "Processing:  34%|███▍      | 38258/111314 [52:58<2:21:05,  8.63it/s]"
     ]
    },
    {
     "name": "stdout",
     "output_type": "stream",
     "text": [
      "Error fetching https://propertyhub.in.th/en/listings/s-lrp105-for-sale-lumpini-ramintra-lat-pla-khao-2-6th-floor-building-b1-city-view-26-sq-m-1-bedroom-1-bathroom-1-35-million-081-904-4692---4425639, attempt 1: \n"
     ]
    },
    {
     "name": "stderr",
     "output_type": "stream",
     "text": [
      "Processing:  34%|███▍      | 38265/111314 [52:58<1:43:09, 11.80it/s]"
     ]
    },
    {
     "name": "stdout",
     "output_type": "stream",
     "text": [
      "Error fetching https://propertyhub.in.th/en/listings/2-bed-condo-in-q-langsuan-lumphini-sub-district-c11570---4009353, attempt 1: \n"
     ]
    },
    {
     "name": "stderr",
     "output_type": "stream",
     "text": [
      "Processing:  34%|███▍      | 38289/111314 [53:00<2:06:04,  9.65it/s]"
     ]
    },
    {
     "name": "stdout",
     "output_type": "stream",
     "text": [
      "Error fetching https://propertyhub.in.th/en/listings/2-bed-condo-in-q-langsuan-lumphini-sub-district-c11342---4009361, attempt 1: \n"
     ]
    },
    {
     "name": "stderr",
     "output_type": "stream",
     "text": [
      "Processing:  35%|███▍      | 38460/111314 [53:17<2:26:49,  8.27it/s]"
     ]
    },
    {
     "name": "stdout",
     "output_type": "stream",
     "text": [
      "Error fetching https://propertyhub.in.th/en/listings/supalai-vista-tiwanon--bb2009a8---3950975, attempt 1: \n"
     ]
    },
    {
     "name": "stderr",
     "output_type": "stream",
     "text": [
      "Processing:  35%|███▍      | 38925/111314 [54:00<1:35:45, 12.60it/s]"
     ]
    },
    {
     "name": "stdout",
     "output_type": "stream",
     "text": [
      "Error fetching https://propertyhub.in.th/en/listings/tqs05-0870-urgent-sale-park-origin-phrom-phong---4452646, attempt 1: \n",
      "Error fetching https://propertyhub.in.th/en/listings/hot-deal-discounted-price-beautiful-room-but-more-beautiful-price-south-facing-not-hot---4658495, attempt 1: \n"
     ]
    },
    {
     "name": "stderr",
     "output_type": "stream",
     "text": [
      "Processing:  35%|███▌      | 39164/111314 [54:23<2:20:08,  8.58it/s]"
     ]
    },
    {
     "name": "stdout",
     "output_type": "stream",
     "text": [
      "Error fetching https://propertyhub.in.th/en/listings/condo-for-sale-regent-orchid-sukhumvit-101--9e890936---4565593, attempt 1: \n"
     ]
    },
    {
     "name": "stderr",
     "output_type": "stream",
     "text": [
      "Processing:  36%|███▌      | 39563/111314 [55:00<2:28:02,  8.08it/s]"
     ]
    },
    {
     "name": "stdout",
     "output_type": "stream",
     "text": [
      "Error fetching https://propertyhub.in.th/en/listings/1-bed-condo-in-mirage-sukhumvit-27-khlong-toei-nuea-sub-district-c05672--c56a0a64---4012097, attempt 1: \n"
     ]
    },
    {
     "name": "stderr",
     "output_type": "stream",
     "text": [
      "Processing:  36%|███▌      | 40088/111314 [55:50<2:31:14,  7.85it/s]"
     ]
    },
    {
     "name": "stdout",
     "output_type": "stream",
     "text": [
      "Error fetching https://propertyhub.in.th/en/listings/s-war105-whizdom-avenue-ratchada-lat-phrao-6th-floor-north-side-35-sq-m-1-bedroom-1-bathroom-4-7-million-064-959-8900---4391945, attempt 1: \n"
     ]
    },
    {
     "name": "stderr",
     "output_type": "stream",
     "text": [
      "Processing:  36%|███▌      | 40112/111314 [55:52<2:20:32,  8.44it/s]"
     ]
    },
    {
     "name": "stdout",
     "output_type": "stream",
     "text": [
      "Error fetching https://propertyhub.in.th/en/listings/s-atj126-ashton-chula-silom-35th-floor-city-view-24-5-sq-m-studio-1-bathroom-6-6-million-064-959-8900---4392115, attempt 1: \n"
     ]
    },
    {
     "name": "stderr",
     "output_type": "stream",
     "text": [
      "Processing:  36%|███▌      | 40121/111314 [55:53<1:48:01, 10.98it/s]"
     ]
    },
    {
     "name": "stdout",
     "output_type": "stream",
     "text": [
      "Error fetching https://propertyhub.in.th/en/listings/sell-regent-home-20-prachachuen-16---4648734, attempt 1: \n"
     ]
    },
    {
     "name": "stderr",
     "output_type": "stream",
     "text": [
      "Processing:  36%|███▌      | 40260/111314 [56:07<2:14:33,  8.80it/s]"
     ]
    },
    {
     "name": "stdout",
     "output_type": "stream",
     "text": [
      "Error fetching https://propertyhub.in.th/en/listings/for-sell-condo-bangkok-horizon-ratchada-thapra-building-1-floor-30-2-bed-room-room-size-61-sqm--b9680a09---4687837, attempt 1: \n"
     ]
    },
    {
     "name": "stderr",
     "output_type": "stream",
     "text": [
      "Processing:  36%|███▋      | 40513/111314 [56:31<1:20:26, 14.67it/s]"
     ]
    },
    {
     "name": "stdout",
     "output_type": "stream",
     "text": [
      "Error fetching https://propertyhub.in.th/en/listings/bc206-condo-for-sale-a-space-asoke-ratchada-near-mrt-rama-9---4160447, attempt 1: \n"
     ]
    },
    {
     "name": "stderr",
     "output_type": "stream",
     "text": [
      "Processing:  38%|███▊      | 42154/111314 [59:06<1:19:19, 14.53it/s]"
     ]
    },
    {
     "name": "stdout",
     "output_type": "stream",
     "text": [
      "Error fetching https://propertyhub.in.th/en/listings/condo-for-sale-elio-del-nest-udomsuk-fully-furnished-with-tenant---3708059, attempt 1: \n"
     ]
    },
    {
     "name": "stderr",
     "output_type": "stream",
     "text": [
      "Processing:  39%|███▉      | 43283/111314 [1:00:53<2:32:33,  7.43it/s]"
     ]
    },
    {
     "name": "stdout",
     "output_type": "stream",
     "text": [
      "Error fetching https://propertyhub.in.th/en/listings/owprang130824-sale-knightbridge-duplex-tiwanon--97cc08b7---4608125, attempt 1: \n"
     ]
    },
    {
     "name": "stderr",
     "output_type": "stream",
     "text": [
      "Processing:  39%|███▉      | 43335/111314 [1:00:58<1:41:31, 11.16it/s]"
     ]
    },
    {
     "name": "stdout",
     "output_type": "stream",
     "text": [
      "Error fetching https://propertyhub.in.th/en/listings/s-atj125-ashton-chula-silom-26th-floor-north-side-24-5-sq-m-studio-1-bathroom-6-5-million-095-392-5645---4390665, attempt 1: \n"
     ]
    },
    {
     "name": "stderr",
     "output_type": "stream",
     "text": [
      "Processing:  39%|███▉      | 43433/111314 [1:01:08<1:50:32, 10.24it/s]"
     ]
    },
    {
     "name": "stdout",
     "output_type": "stream",
     "text": [
      "Error fetching https://propertyhub.in.th/en/listings/for-sell-condo-supalai-veranda-rama-9-building-a-floor-15-1-bed-room-room-size-30-sqm--b51b09a4---4688608, attempt 1: \n"
     ]
    },
    {
     "name": "stderr",
     "output_type": "stream",
     "text": [
      "Processing:  39%|███▉      | 43519/111314 [1:01:16<2:02:08,  9.25it/s]"
     ]
    },
    {
     "name": "stdout",
     "output_type": "stream",
     "text": [
      "Error fetching https://propertyhub.in.th/en/listings/1-bed-condo-in-the-address-asoke-makkasan-sub-district-c10031---4011350, attempt 1: \n"
     ]
    },
    {
     "name": "stderr",
     "output_type": "stream",
     "text": [
      "Processing:  39%|███▉      | 43524/111314 [1:01:16<2:22:26,  7.93it/s]"
     ]
    },
    {
     "name": "stdout",
     "output_type": "stream",
     "text": [
      "Error fetching https://propertyhub.in.th/en/listings/1-bed-condo-in-the-address-asoke-makkasan-sub-district-c014485---4011358, attempt 1: \n"
     ]
    },
    {
     "name": "stderr",
     "output_type": "stream",
     "text": [
      "Processing:  39%|███▉      | 43726/111314 [1:01:35<1:24:17, 13.37it/s]"
     ]
    },
    {
     "name": "stdout",
     "output_type": "stream",
     "text": [
      "Error fetching https://propertyhub.in.th/en/listings/1-br-condo-at-euro-condominium-close-to-phratamnak-id-1177052---4531428, attempt 1: \n"
     ]
    },
    {
     "name": "stderr",
     "output_type": "stream",
     "text": [
      "Processing:  39%|███▉      | 43861/111314 [1:01:49<1:41:02, 11.13it/s]"
     ]
    },
    {
     "name": "stdout",
     "output_type": "stream",
     "text": [
      "Error fetching https://propertyhub.in.th/en/listings/s-fcst105-condo-for-sale-fuse-chan-sathorn-6th-floor-33-sq-m-1-bedroom-1-bathroom-3-2-million-091-942-6249---4438977, attempt 1: \n"
     ]
    },
    {
     "name": "stderr",
     "output_type": "stream",
     "text": [
      "Processing:  39%|███▉      | 43922/111314 [1:01:56<2:08:33,  8.74it/s]"
     ]
    }
   ],
   "source": [
    "import aiohttp\n",
    "import asyncio\n",
    "from bs4 import BeautifulSoup\n",
    "import pandas as pd\n",
    "from datetime import datetime\n",
    "import time\n",
    "from tqdm import tqdm  # Progress bar\n",
    "import nest_asyncio  # For environments like Jupyter notebooks\n",
    "\n",
    "# Apply nest_asyncio to allow nested event loops (only if needed in environments like Jupyter)\n",
    "nest_asyncio.apply()\n",
    "\n",
    "# Asynchronous Scraper class\n",
    "class AsyncScraper:\n",
    "    def __init__(self):\n",
    "        self.session = None\n",
    "    \n",
    "    async def fetch(self, session, url):\n",
    "        retries = 3\n",
    "        for attempt in range(retries):\n",
    "            try:\n",
    "                async with session.get(url, timeout=10) as response:\n",
    "                    response.raise_for_status()\n",
    "                    html = await response.text()\n",
    "                    soup = BeautifulSoup(html, 'lxml')\n",
    "\n",
    "                    # Extracting required data\n",
    "                    sqm_container = soup.find('div', class_=\"sc-ejnaz6-21 dWMjEs\")\n",
    "                    last_span = sqm_container.find_all('span')[-1].get_text().strip() if sqm_container else \"No sqm data\"\n",
    "\n",
    "                    name_elem = soup.select_one(\".sc-ejnaz6-2 .sc-ejnaz6-3\")\n",
    "                    name = name_elem.get_text() if name_elem else \"No name\"\n",
    "\n",
    "                    price_elem = soup.select_one(\".sc-ejnaz6-5 .sale-price\")\n",
    "                    price = price_elem.get_text().strip('฿').replace(',', \"\") if price_elem else \"No price\"\n",
    "\n",
    "                    return (name, last_span, price)\n",
    "            except (aiohttp.ClientError, asyncio.TimeoutError) as e:\n",
    "                print(f\"Error fetching {url}, attempt {attempt + 1}: {e}\")\n",
    "                if attempt < retries - 1:\n",
    "                    await asyncio.sleep(2 ** attempt)  # Exponential backoff\n",
    "                else:\n",
    "                    return None\n",
    "\n",
    "    async def scrape_links(self, urls, max_concurrency=20):\n",
    "        async with aiohttp.ClientSession(headers={'User-Agent': 'Mozilla/5.0'}) as session:\n",
    "            tasks = []\n",
    "            semaphore = asyncio.Semaphore(max_concurrency)  # Limit concurrency\n",
    "\n",
    "            async def bound_fetch(url):\n",
    "                async with semaphore:\n",
    "                    return await self.fetch(session, url)\n",
    "\n",
    "            tasks = [bound_fetch(url) for url in urls]\n",
    "            \n",
    "            # Using tqdm to show progress\n",
    "            results = []\n",
    "            for future in tqdm(asyncio.as_completed(tasks), total=len(tasks), desc=\"Processing\"):\n",
    "                result = await future\n",
    "                if result:\n",
    "                    results.append(result)\n",
    "\n",
    "            return results\n",
    "\n",
    "# Helper function to read links from file\n",
    "def read_links_from_file(file_path):\n",
    "    with open(file_path, 'r') as file:\n",
    "        return [line.strip() for line in file if line.strip()]\n",
    "\n",
    "# Main function to execute the scraping\n",
    "async def run_scraper():\n",
    "    file_path = 'condo_links_all.txt'\n",
    "    condo_links_all = read_links_from_file(file_path)\n",
    "    scraper = AsyncScraper()\n",
    "\n",
    "    start_time = datetime.now()\n",
    "\n",
    "    # Scrape the links with progress bar\n",
    "    condo_list = await scraper.scrape_links(condo_links_all)\n",
    "\n",
    "    # Save to DataFrame and CSV\n",
    "    df = pd.DataFrame(condo_list, columns=['Name', 'SQM', 'Price'])\n",
    "    df.to_csv(\"propertynewprice.csv\", header=['Name', 'SQM', 'Price'], index=False, encoding='utf-8-sig')\n",
    "\n",
    "    print(f\"Data saved, total valid entries: {len(condo_list)}\")\n",
    "    print(f'Time elapsed (hh:mm:ss.ms): {datetime.now() - start_time}')\n",
    "\n",
    "# Function to check if the event loop is already running and run the scraper\n",
    "def main():\n",
    "    try:\n",
    "        # If already inside an event loop (e.g., Jupyter Notebook), use this\n",
    "        if asyncio.get_event_loop().is_running():\n",
    "            return asyncio.ensure_future(run_scraper())\n",
    "        # Otherwise, use asyncio.run() to run the main async function\n",
    "        else:\n",
    "            return asyncio.run(run_scraper())\n",
    "    except RuntimeError:\n",
    "        # For environments like Jupyter Notebook, where get_event_loop() may raise an error\n",
    "        loop = asyncio.new_event_loop()\n",
    "        asyncio.set_event_loop(loop)\n",
    "        loop.run_until_complete(run_scraper())\n",
    "\n",
    "# Run the scraper\n",
    "if __name__ == \"__main__\":\n",
    "    main()\n"
   ]
  }
 ],
 "metadata": {
  "kernelspec": {
   "display_name": "Project",
   "language": "python",
   "name": "python3"
  },
  "language_info": {
   "codemirror_mode": {
    "name": "ipython",
    "version": 3
   },
   "file_extension": ".py",
   "mimetype": "text/x-python",
   "name": "python",
   "nbconvert_exporter": "python",
   "pygments_lexer": "ipython3",
   "version": "3.12.5"
  }
 },
 "nbformat": 4,
 "nbformat_minor": 2
}
