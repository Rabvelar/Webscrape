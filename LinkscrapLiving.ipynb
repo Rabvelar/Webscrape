{
 "cells": [
  {
   "cell_type": "code",
   "execution_count": 1,
   "metadata": {},
   "outputs": [],
   "source": [
    "from datetime import datetime\n",
    "import time\n",
    "import pandas as pd\n",
    "import pickle as pk\n",
    "from bs4 import BeautifulSoup\n",
    "import requests"
   ]
  },
  {
   "cell_type": "code",
   "execution_count": 2,
   "metadata": {},
   "outputs": [
    {
     "name": "stdout",
     "output_type": "stream",
     "text": [
      "Total condo links: 485\n"
     ]
    }
   ],
   "source": [
    "with open('living_insider_condo_links.txt') as f:\n",
    "    condo_links_all = f.read().splitlines()\n",
    "print(f\"Total condo links: {len(condo_links_all)}\")"
   ]
  },
  {
   "cell_type": "code",
   "execution_count": 5,
   "metadata": {},
   "outputs": [
    {
     "name": "stdout",
     "output_type": "stream",
     "text": [
      "Processing complete. Total links processed: 84000\n",
      "Data saved, total valid entries: 84000\n",
      "Time elapsed (hh:mm:ss.ms): 2:12:45.870510\n"
     ]
    }
   ],
   "source": [
    "import requests\n",
    "from bs4 import BeautifulSoup\n",
    "import pandas as pd\n",
    "from datetime import datetime\n",
    "import concurrent.futures\n",
    "\n",
    "# Scraper class to manage the session and retrieval\n",
    "class Scraper:\n",
    "    def __init__(self):\n",
    "        self.session = requests.Session()  # Reuse connections for efficiency\n",
    "\n",
    "    def retrieve(self, link):\n",
    "        try:\n",
    "            page = self.session.get(link)\n",
    "            soup = BeautifulSoup(page.content, 'html.parser')\n",
    "\n",
    "            # Extracting the sqm container\n",
    "            sqm_container = soup.find('div', class_=\"sc-ejnaz6-21 dWMjEs\")\n",
    "            if sqm_container:\n",
    "                spans = sqm_container.find_all('span')\n",
    "                last_span = spans[-1].get_text().strip() if spans else \"No sqm data\"\n",
    "            else:\n",
    "                last_span = \"No sqm data\"\n",
    "\n",
    "            # Extract other information\n",
    "            name_elem = soup.find(class_=\"sc-ejnaz6-2 fuLHNZ\")\n",
    "            name = name_elem.find(class_=\"sc-ejnaz6-3 gSIBgi\").get_text() if name_elem else \"No name\"\n",
    "\n",
    "            price_elem = soup.find(class_=\"sc-ejnaz6-5 hgrkiv\")\n",
    "            price = price_elem.find(class_=\"sale-price\").get_text().strip('฿').replace(',', \"\") if price_elem else \"No price\"\n",
    "\n",
    "            return (name, last_span, price)\n",
    "        except Exception as e:\n",
    "            print(f\"Error processing {link}: {e}\")\n",
    "            return None\n",
    "\n",
    "# Function to process links using threading\n",
    "def process_links(links, max_workers=20):\n",
    "    scraper = Scraper()\n",
    "    condo_list = []\n",
    "    total_links = len(links)\n",
    "    \n",
    "    with concurrent.futures.ThreadPoolExecutor(max_workers=max_workers) as executor:\n",
    "        future_to_link = {executor.submit(scraper.retrieve, link): link for link in links}\n",
    "        for i, future in enumerate(concurrent.futures.as_completed(future_to_link), 1):\n",
    "            data = future.result()\n",
    "            if data is not None:\n",
    "                condo_list.append(data)\n",
    "            if i % 1000 == 0:  # Print progress every 1000 links\n",
    "                print(f\"Processed {i}/{total_links} links\", end='\\r', flush=True)\n",
    "\n",
    "    print(f\"Processing complete. Total links processed: {total_links}\")\n",
    "    return condo_list\n",
    "\n",
    "# Function to read links from a text file\n",
    "def read_links_from_file(file_path):\n",
    "    with open(file_path, 'r') as file:\n",
    "        links = [line.strip() for line in file.readlines()]\n",
    "    return links\n",
    "\n",
    "# Main function to execute the scraping and save the results\n",
    "def main():\n",
    "    file_path = 'condo_links_all_faster.txt'\n",
    "    condo_links_all = read_links_from_file(file_path)\n",
    "\n",
    "    start_time = datetime.now()\n",
    "\n",
    "    # Process the links and get the condo details\n",
    "    condo_list = process_links(condo_links_all)\n",
    "\n",
    "    # Create a DataFrame and save to CSV\n",
    "    df = pd.DataFrame(condo_list, columns=['Name', 'SQM', 'Price'])\n",
    "    df.to_csv(\"NewPrice.csv\", header=['Name', 'SQM', 'Price'], index=False, encoding='utf-8-sig')\n",
    "\n",
    "    print(f\"Data saved, total valid entries: {len(condo_list)}\")\n",
    "    print(f'Time elapsed (hh:mm:ss.ms): {datetime.now() - start_time}')\n",
    "\n",
    "if __name__ == \"__main__\":\n",
    "    main()\n"
   ]
  }
 ],
 "metadata": {
  "kernelspec": {
   "display_name": "Project",
   "language": "python",
   "name": "python3"
  },
  "language_info": {
   "codemirror_mode": {
    "name": "ipython",
    "version": 3
   },
   "file_extension": ".py",
   "mimetype": "text/x-python",
   "name": "python",
   "nbconvert_exporter": "python",
   "pygments_lexer": "ipython3",
   "version": "3.12.5"
  }
 },
 "nbformat": 4,
 "nbformat_minor": 2
}
